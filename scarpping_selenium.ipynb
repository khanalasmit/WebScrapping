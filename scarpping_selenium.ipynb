{
 "cells": [
  {
   "cell_type": "code",
   "execution_count": null,
   "metadata": {},
   "outputs": [],
   "source": [
    "from selenium import webdriver\n",
    "from selenium.webdriver.common.by import By\n",
    "from selenium.webdriver.support.ui import WebDriverWait\n",
    "from selenium.webdriver.support import expected_conditions as EC\n",
    "from selenium.webdriver.common.keys import Keys\n",
    "import time\n",
    "from datetime import datetime,timedelta"
   ]
  },
  {
   "cell_type": "code",
   "execution_count": null,
   "metadata": {},
   "outputs": [],
   "source": [
    "driver=webdriver.Chrome()\n",
    "driver.get(\"http://www.python.org\")\n",
    "assert \"Python\" in driver.title\n",
    "elem=driver.find_element(By.NAME,\"q\")\n",
    "elem.clear()\n",
    "elem.send_keys(\"pycon\")\n",
    "elem.send_keys(Keys.RETURN)\n",
    "time.sleep(6)\n",
    "assert \"No result Found\" not in driver.page_source\n",
    "driver.close()"
   ]
  },
  {
   "cell_type": "code",
   "execution_count": null,
   "metadata": {},
   "outputs": [],
   "source": [
    "\n",
    "\n",
    "driver = webdriver.Chrome()\n",
    "driver.get(\"https://airquality.cpcb.gov.in/AQI_India/\")\n",
    "\n",
    "assert \"National Air Quality Index\" in driver.title\n",
    "\n",
    "# Solve CAPTCHA manually\n",
    "print(\"Solve the CAPTCHA manually within 60 seconds.\")\n",
    "WebDriverWait(driver, 60).until(EC.presence_of_element_located((By.TAG_NAME, \"svg\")))\n",
    "\n",
    "# Wait and get all <tspan> elements\n",
    "try:\n",
    "    aqi_elements = WebDriverWait(driver, 5).until(\n",
    "        EC.presence_of_all_elements_located((By.TAG_NAME, \"tspan\"))\n",
    "    )\n",
    "    for i, el in enumerate(aqi_elements):\n",
    "        print(f\"tspan {i}: {el.text}\")\n",
    "except Exception as e:\n",
    "    print(\"Error:\", e)\n",
    "\n",
    "driver.quit()\n"
   ]
  },
  {
   "cell_type": "code",
   "execution_count": null,
   "metadata": {},
   "outputs": [],
   "source": [
    "from selenium import webdriver\n",
    "from selenium.webdriver.common.by import By\n",
    "from selenium.webdriver.support.ui import WebDriverWait\n",
    "from selenium.webdriver.support import expected_conditions as EC\n",
    "from datetime import datetime, timedelta\n",
    "import time\n",
    "\n",
    "driver = webdriver.Chrome()\n",
    "driver.get(\"https://airquality.cpcb.gov.in/AQI_India/\")\n",
    "assert \"National Air Quality Index\" in driver.title\n",
    "print(\"Solve the CAPTCHA manually within 60 seconds.\")\n",
    "WebDriverWait(driver, 60).until(EC.presence_of_element_located((By.TAG_NAME, \"svg\")))\n",
    "\n",
    "start_date = datetime(2020, 1, 1)\n",
    "end_date = datetime(2024, 12, 30)\n",
    "\n",
    "current_date = start_date\n",
    "while current_date <= end_date:\n",
    "    try:\n",
    "        date_str = current_date.strftime(\"%Y-%m-%d\")\n",
    "        date_input = driver.find_element(By.CSS_SELECTOR, \"#date input.form-control\")\n",
    "        date_input.clear()\n",
    "        date_input.send_keys(date_str)\n",
    "        date_input.send_keys(Keys.RETURN)\n",
    "        WebDriverWait(driver, 5).until(\n",
    "            EC.presence_of_all_elements_located((By.TAG_NAME, \"tspan\"))\n",
    "        )\n",
    "        aqi_elements = driver.find_elements(By.TAG_NAME, \"tspan\")\n",
    "        for i, el in enumerate(aqi_elements):\n",
    "            print(f\"tspan {i}: {el.text}\")\n",
    "        print(f\"Date set to: {date_str}\")\n",
    "        current_date += timedelta(days=1)\n",
    "        time.sleep(2)\n",
    "    except Exception as e:\n",
    "        print(f\"An error occurred while processing date {date_str}: {e}\")\n",
    "        break\n",
    "\n",
    "driver.quit()\n"
   ]
  },
  {
   "cell_type": "code",
   "execution_count": null,
   "metadata": {},
   "outputs": [],
   "source": []
  }
 ],
 "metadata": {
  "kernelspec": {
   "display_name": "Python 3",
   "language": "python",
   "name": "python3"
  },
  "language_info": {
   "codemirror_mode": {
    "name": "ipython",
    "version": 3
   },
   "file_extension": ".py",
   "mimetype": "text/x-python",
   "name": "python",
   "nbconvert_exporter": "python",
   "pygments_lexer": "ipython3",
   "version": "3.12.4"
  }
 },
 "nbformat": 4,
 "nbformat_minor": 2
}
